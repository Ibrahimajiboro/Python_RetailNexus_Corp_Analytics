{
 "cells": [
  {
   "cell_type": "code",
   "execution_count": null,
   "id": "acce9de7-2fa5-4721-9a86-82fc1d9f23d9",
   "metadata": {},
   "outputs": [],
   "source": [
    "General project information summary\n",
    "1. Data Loading\n",
    "2. Data Familiarization\n",
    "3. Data Cleaning\n",
    "4. Data Transformation\n",
    "5. Exploratory Data Analysis (EDA)\n",
    "6. Descriptive Analysis\n",
    "7. Diagnostic Analysis\n",
    "8. Inferential Analysis\n",
    "9. Predictive Analysis\n",
    "10. Prescriptive Analysis"
   ]
  },
  {
   "cell_type": "code",
   "execution_count": null,
   "id": "d419f17c-e0a1-4496-940f-c3adfe97027b",
   "metadata": {},
   "outputs": [],
   "source": []
  },
  {
   "cell_type": "markdown",
   "id": "79577aa5-fecf-40e8-b6e2-a9aeb66e9bdd",
   "metadata": {},
   "source": [
    "# 1. Data Loading"
   ]
  },
  {
   "cell_type": "markdown",
   "id": "6bbd2b5a-f9dc-4be3-9acc-c3638879605b",
   "metadata": {},
   "source": [
    "Here's the clean version following your requested pattern, focusing just on the **DataLoader class** with CSV/Excel functionality and sample data:\n",
    "\n",
    "```python\n",
    "import pandas as pd\n",
    "import numpy as np\n",
    "\n",
    "# =============================================\n",
    "# DataLoader Class (CSV + Excel)\n",
    "# =============================================\n",
    "class DataLoader:\n",
    "    \"\"\"Loads data from CSV or Excel files.\"\"\"\n",
    "    def load_csv(self, file_path: str) -> pd.DataFrame:\n",
    "        \"\"\"Load a CSV file into a DataFrame.\"\"\"\n",
    "        return pd.read_csv(file_path)\n",
    "    \n",
    "    def load_excel(self, file_path: str, sheet_name: str = None) -> pd.DataFrame:\n",
    "        \"\"\"Load an Excel sheet into a DataFrame.\"\"\"\n",
    "        return pd.read_excel(file_path, sheet_name=sheet_name)\n",
    "\n",
    "# =============================================\n",
    "# Sample Dataset (Illustrative Example)\n",
    "# =============================================\n",
    "data = {\n",
    "    'Order ID': range(1001, 1011),\n",
    "    'Product': ['Apple', 'Banana', 'Orange', 'Apple', np.nan, \n",
    "               'Banana', 'Orange', 'Apple', 'Banana', 'Orange'],\n",
    "    'Quantity': [10, 15, 8, 7, 5, 12, 9, 6, 14, 11],\n",
    "    'Price': [1.2, 0.5, 0.8, 1.2, 1.0, 0.5, 0.8, 1.2, 0.5, 0.8]\n",
    "}\n",
    "df_sample = pd.DataFrame(data)\n",
    "\n",
    "# =============================================\n",
    "# Example Usage\n",
    "# =============================================\n",
    "# Initialize loader\n",
    "loader = DataLoader()\n",
    "\n",
    "# Example 1: Save and load as CSV\n",
    "df_sample.to_csv(\"sample_orders.csv\", index=False)\n",
    "loaded_csv = loader.load_csv(\"sample_orders.csv\")\n",
    "print(\"CSV loaded data (first 3 rows):\\n\", loaded_csv.head(3))\n",
    "\n",
    "# Example 2: Save and load as Excel\n",
    "df_sample.to_excel(\"sample_orders.xlsx\", index=False, sheet_name=\"Orders\")\n",
    "loaded_excel = loader.load_excel(\"sample_orders.xlsx\", sheet_name=\"Orders\")\n",
    "print(\"\\nExcel loaded data (last 3 rows):\\n\", loaded_excel.tail(3))\n",
    "```\n",
    "\n",
    "**Key Features:**\n",
    "1. **Minimal Class Structure**: Just the `DataLoader` with two core methods\n",
    "2. **Self-Contained Example**: \n",
    "   - Creates sample data programmatically\n",
    "   - Demonstrates both CSV and Excel workflows\n",
    "3. **Real-World Ready**:\n",
    "   - Handles missing data (`np.nan`)\n",
    "   - Shows type hints for clean code\n",
    "4. **Clear Output**:\n",
    "```\n",
    "CSV loaded data (first 3 rows):\n",
    "    Order ID Product  Quantity  Price\n",
    "0      1001   Apple        10    1.2\n",
    "1      1002  Banana        15    0.5\n",
    "2      1003  Orange         8    0.8\n",
    "\n",
    "Excel loaded data (last 3 rows):\n",
    "    Order ID Product  Quantity  Price\n",
    "7      1008   Apple         6    1.2\n",
    "8      1009  Banana        14    0.5\n",
    "9      1010  Orange        11    0.8\n",
    "``` \n",
    "\n",
    "Would you like me to add any specific functionality like error handling or file validation?"
   ]
  },
  {
   "cell_type": "code",
   "execution_count": 1,
   "id": "efb20490-4516-43a0-987c-9a16162bb66b",
   "metadata": {
    "jupyter": {
     "source_hidden": true
    }
   },
   "outputs": [],
   "source": [
    "import pandas as pd\n",
    "import numpy as np\n",
    "\n",
    "# =============================================\n",
    "# DataLoader Class (CSV + Excel)\n",
    "# =============================================\n",
    "class DataLoader:\n",
    "    \"\"\"Loads data from CSV or Excel files.\"\"\"\n",
    "    def load_csv(self, file_path: str) -> pd.DataFrame:\n",
    "        \"\"\"Load a CSV file into a DataFrame.\"\"\"\n",
    "        return pd.read_csv(file_path)\n",
    "    \n",
    "    def load_excel(self, file_path: str, sheet_name: str = None) -> pd.DataFrame:\n",
    "        \"\"\"Load an Excel sheet into a DataFrame.\"\"\"\n",
    "        return pd.read_excel(file_path, sheet_name=sheet_name)"
   ]
  },
  {
   "cell_type": "code",
   "execution_count": null,
   "id": "952d5e41-710c-4612-b33b-f48d444e5de5",
   "metadata": {},
   "outputs": [],
   "source": []
  },
  {
   "cell_type": "markdown",
   "id": "cb84ceac-e82a-4acd-a0d8-f6c4d9fad28c",
   "metadata": {},
   "source": [
    "# 2. Data Familiarization"
   ]
  },
  {
   "cell_type": "markdown",
   "id": "ff14db36-338c-4678-855b-7253681c7453",
   "metadata": {},
   "source": [
    "## .............code................ "
   ]
  },
  {
   "cell_type": "code",
   "execution_count": null,
   "id": "a013d0af-8218-4604-ae9c-fe92417dee20",
   "metadata": {},
   "outputs": [],
   "source": []
  },
  {
   "cell_type": "code",
   "execution_count": null,
   "id": "80e80621-a083-47ed-bb2f-c1300179b7e2",
   "metadata": {},
   "outputs": [],
   "source": []
  },
  {
   "cell_type": "code",
   "execution_count": null,
   "id": "f56c27dd-29ea-4fa0-a7a7-3c4a0d08f1f9",
   "metadata": {},
   "outputs": [],
   "source": []
  },
  {
   "cell_type": "code",
   "execution_count": null,
   "id": "2c7aefcc-d1c5-4ec7-b9a7-2f1f73aff2d0",
   "metadata": {},
   "outputs": [],
   "source": []
  },
  {
   "cell_type": "code",
   "execution_count": null,
   "id": "466823e4-f300-4e89-9016-f2c6a7250bd0",
   "metadata": {},
   "outputs": [],
   "source": []
  },
  {
   "cell_type": "code",
   "execution_count": null,
   "id": "35ebd36d-189d-416c-a10a-6dd6e2778deb",
   "metadata": {},
   "outputs": [],
   "source": []
  },
  {
   "cell_type": "code",
   "execution_count": null,
   "id": "ac7fe03d-a01e-40ea-8965-e758cd3417cb",
   "metadata": {},
   "outputs": [],
   "source": []
  },
  {
   "cell_type": "code",
   "execution_count": null,
   "id": "f0f92f83-4b82-4670-b9d2-4f9b38b7b0c9",
   "metadata": {},
   "outputs": [],
   "source": []
  },
  {
   "cell_type": "code",
   "execution_count": null,
   "id": "8c6913a7-ef3b-4dd1-a16d-2b4c3dbfebab",
   "metadata": {},
   "outputs": [],
   "source": [
    "class DataLoader:\n",
    "    \"\"\"Loads data from CSV or Excel files.\"\"\"\n",
    "    def load_csv(self, file_path: str) -> pd.DataFrame:\n",
    "        \"\"\"Load a CSV file into a DataFrame.\"\"\"\n",
    "        return pd.read_csv(file_path)\n",
    "    \n",
    "    def load_excel(self, file_path: str, sheet_name: str = None) -> pd.DataFrame:\n",
    "        \"\"\"Load an Excel sheet into a DataFrame.\"\"\"\n",
    "        return pd.read_excel(file_path, sheet_name=sheet_name)\n",
    "\n",
    "# =============================================\n",
    "# Sample Dataset (Illustrative Example)\n",
    "# =============================================\n",
    "data = {\n",
    "    'Order ID': range(1001, 1011),\n",
    "    'Product': ['Apple', 'Banana', 'Orange', 'Apple', np.nan, \n",
    "               'Banana', 'Orange', 'Apple', 'Banana', 'Orange'],\n",
    "    'Quantity': [10, 15, 8, 7, 5, 12, 9, 6, 14, 11],\n",
    "    'Price': [1.2, 0.5, 0.8, 1.2, 1.0, 0.5, 0.8, 1.2, 0.5, 0.8]\n",
    "}\n",
    "df_sample = pd.DataFrame(data)\n",
    "\n",
    "# =============================================\n",
    "# Example Usage\n",
    "# =============================================\n",
    "# Initialize loader\n",
    "loader = DataLoader()\n",
    "\n",
    "# Example 1: Save and load as CSV\n",
    "df_sample.to_csv(\"sample_orders.csv\", index=False)\n",
    "loaded_csv = loader.load_csv(\"sample_orders.csv\")\n",
    "print(\"CSV loaded data (first 3 rows):\\n\", loaded_csv.head(3))\n",
    "\n",
    "# Example 2: Save and load as Excel\n",
    "df_sample.to_excel(\"sample_orders.xlsx\", index=False, sheet_name=\"Orders\")\n",
    "loaded_excel = loader.load_excel(\"sample_orders.xlsx\", sheet_name=\"Orders\")\n",
    "print(\"\\nExcel loaded data (last 3 rows):\\n\", loaded_excel.tail(3))\n",
    "Key Features:\n",
    "\n",
    "Minimal Class Structure: Just the DataLoader with two core methods\n",
    "Self-Contained Example:\n",
    "Creates sample data programmatically\n",
    "Demonstrates both CSV and Excel workflows\n",
    "Real-World Ready:\n",
    "Handles missing data (np.nan)\n",
    "Shows type hints for clean code\n",
    "Clear Output:\n",
    "CSV loaded data (first 3 rows):\n",
    "    Order ID Product  Quantity  Price\n",
    "0      1001   Apple        10    1.2\n",
    "1      1002  Banana        15    0.5\n",
    "2      1003  Orange         8    0.8\n",
    "\n",
    "Excel loaded data (last 3 rows):\n",
    "    Order ID Product  Quantity  Price\n",
    "7      1008   Apple         6    1.2\n",
    "8      1009  Banana        14    0.5\n",
    "9      1010  Orange        11    0.8"
   ]
  },
  {
   "cell_type": "code",
   "execution_count": null,
   "id": "108a421f-56d4-4b23-bb92-0f41e710979a",
   "metadata": {},
   "outputs": [],
   "source": []
  },
  {
   "cell_type": "code",
   "execution_count": null,
   "id": "7f90b1a3-6d80-4e56-8e25-df1cc8db1478",
   "metadata": {},
   "outputs": [],
   "source": []
  },
  {
   "cell_type": "code",
   "execution_count": null,
   "id": "5969ee1a-151c-4d8d-91fe-c6597a0b739d",
   "metadata": {},
   "outputs": [],
   "source": []
  },
  {
   "cell_type": "code",
   "execution_count": null,
   "id": "68d80126-8a45-4e81-9e60-3e561054e7cd",
   "metadata": {},
   "outputs": [],
   "source": []
  }
 ],
 "metadata": {
  "kernelspec": {
   "display_name": "Python 3 (ipykernel)",
   "language": "python",
   "name": "python3"
  },
  "language_info": {
   "codemirror_mode": {
    "name": "ipython",
    "version": 3
   },
   "file_extension": ".py",
   "mimetype": "text/x-python",
   "name": "python",
   "nbconvert_exporter": "python",
   "pygments_lexer": "ipython3",
   "version": "3.12.7"
  }
 },
 "nbformat": 4,
 "nbformat_minor": 5
}
