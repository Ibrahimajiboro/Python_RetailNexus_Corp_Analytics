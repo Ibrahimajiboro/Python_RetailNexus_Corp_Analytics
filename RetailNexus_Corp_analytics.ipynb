{
 "cells": [
  {
   "cell_type": "markdown",
   "id": "7856947b-3d0f-454f-b0d4-28f098aaffb5",
   "metadata": {},
   "source": [
    "# General project information summary"
   ]
  },
  {
   "cell_type": "code",
   "execution_count": null,
   "id": "5ffb68b4-103f-4e14-8284-abf4845d5957",
   "metadata": {},
   "outputs": [],
   "source": [
    "General project information summary\n",
    "1. Data Loading\n",
    "2. Data Familiarization\n",
    "3. Data Cleaning\n",
    "4. Data Transformation\n",
    "5. Exploratory Data Analysis (EDA)\n",
    "6. Descriptive Analysis\n",
    "7. Diagnostic Analysis\n",
    "8. Inferential Analysis\n",
    "9. Predictive Analysis\n",
    "10. Prescriptive Analysis"
   ]
  },
  {
   "cell_type": "markdown",
   "id": "2fbcef89-c09f-47b7-91bd-03433d887345",
   "metadata": {
    "jp-MarkdownHeadingCollapsed": true
   },
   "source": [
    "# 1. Data Loading"
   ]
  },
  {
   "cell_type": "code",
   "execution_count": 59,
   "id": "6befc606-2c53-4638-8cce-8c5412de3b18",
   "metadata": {},
   "outputs": [],
   "source": [
    "import pandas as pd\n",
    "import numpy as np\n",
    "\n",
    "# =============================================\n",
    "# DataLoader Class (CSV + Excel)\n",
    "# =============================================\n",
    "class DataLoader:\n",
    "    \"\"\"Loads data from CSV or Excel files.\"\"\"\n",
    "\n",
    "    def __init__(self, filepath: str = None):\n",
    "        self.filepath = filepath\n",
    "        \n",
    "    def load_csv(self, file_path: str) -> pd.DataFrame:\n",
    "        \"\"\"Load a CSV file into a DataFrame.\"\"\"\n",
    "        df = pd.read_csv(file_path)\n",
    "        return df\n",
    "    \n",
    "    def load_excel(self, file_path: str, sheet_name: str = None) -> pd.DataFrame:\n",
    "        \"\"\"Load an Excel sheet into a DataFrame.\"\"\"\n",
    "        df = pd.read_excel(file_path, sheet_name=sheet_name)\n",
    "        return df\n",
    "        "
   ]
  },
  {
   "cell_type": "code",
   "execution_count": 60,
   "id": "4f48fc94-7ad4-4529-9080-ff4a1b1efab0",
   "metadata": {},
   "outputs": [],
   "source": [
    "data_loader = DataLoader()   "
   ]
  },
  {
   "cell_type": "code",
   "execution_count": 70,
   "id": "2401bf54-b37b-4cb0-896a-86284cf96e45",
   "metadata": {},
   "outputs": [
    {
     "name": "stderr",
     "output_type": "stream",
     "text": [
      "C:\\Users\\ajibo\\anaconda3\\Lib\\site-packages\\openpyxl\\worksheet\\header_footer.py:48: UserWarning: Cannot parse header or footer so it will be ignored\n",
      "  warn(\"\"\"Cannot parse header or footer so it will be ignored\"\"\")\n"
     ]
    },
    {
     "name": "stdout",
     "output_type": "stream",
     "text": [
      "   Row ID        Order ID Order Date  Ship Date     Ship Mode Customer ID  \\\n",
      "0       1  CA-2018-152156 2018-11-08 2018-11-11  Second Class    CG-12520   \n",
      "1       2  CA-2018-152156 2018-11-08 2018-11-11  Second Class    CG-12520   \n",
      "\n",
      "  Customer Name   Segment Country/Region       City  ... Postal Code  Region  \\\n",
      "0   Claire Gute  Consumer  United States  Henderson  ...     42420.0   South   \n",
      "1   Claire Gute  Consumer  United States  Henderson  ...     42420.0   South   \n",
      "\n",
      "        Product ID   Category Sub-Category  \\\n",
      "0  FUR-BO-10001798  Furniture    Bookcases   \n",
      "1  FUR-CH-10000454  Furniture       Chairs   \n",
      "\n",
      "                                        Product Name   Sales  Quantity  \\\n",
      "0                  Bush Somerset Collection Bookcase  261.96         2   \n",
      "1  Hon Deluxe Fabric Upholstered Stacking Chairs,...  731.94         3   \n",
      "\n",
      "   Discount    Profit  \n",
      "0       0.0   41.9136  \n",
      "1       0.0  219.5820  \n",
      "\n",
      "[2 rows x 21 columns]\n",
      "=================================================\n",
      "          Person Region\n",
      "0  Anna Andreadi   West\n",
      "1    Chuck Magee   East\n",
      "=================================================\n"
     ]
    },
    {
     "name": "stderr",
     "output_type": "stream",
     "text": [
      "C:\\Users\\ajibo\\anaconda3\\Lib\\site-packages\\openpyxl\\worksheet\\header_footer.py:48: UserWarning: Cannot parse header or footer so it will be ignored\n",
      "  warn(\"\"\"Cannot parse header or footer so it will be ignored\"\"\")\n"
     ]
    },
    {
     "name": "stdout",
     "output_type": "stream",
     "text": [
      "  Returned        Order ID\n",
      "0      Yes  CA-2016-100762\n",
      "1      Yes  CA-2016-100762\n"
     ]
    },
    {
     "name": "stderr",
     "output_type": "stream",
     "text": [
      "C:\\Users\\ajibo\\anaconda3\\Lib\\site-packages\\openpyxl\\worksheet\\header_footer.py:48: UserWarning: Cannot parse header or footer so it will be ignored\n",
      "  warn(\"\"\"Cannot parse header or footer so it will be ignored\"\"\")\n"
     ]
    }
   ],
   "source": [
    "Orders_df = data_loader.load_excel(r\"C:\\Users\\ajibo\\Downloads\\0. Rebrand\\IT Projects\\0. project portfolio\\RetailNexus_Corp_Analytics\\RetailNexus_Corp_Raw_Dataset.xlsx\", sheet_name=\"Orders\")\n",
    "print (Orders_df.head(2))\n",
    "print ('=================================================')\n",
    "People_df = data_loader.load_excel(r\"C:\\Users\\ajibo\\Downloads\\0. Rebrand\\IT Projects\\0. project portfolio\\RetailNexus_Corp_Analytics\\RetailNexus_Corp_Raw_Dataset.xlsx\", sheet_name=\"People\")\n",
    "print (People_df.head(2))\n",
    "print ('=================================================')\n",
    "Returns_df = data_loader.load_excel(r\"C:\\Users\\ajibo\\Downloads\\0. Rebrand\\IT Projects\\0. project portfolio\\RetailNexus_Corp_Analytics\\RetailNexus_Corp_Raw_Dataset.xlsx\", sheet_name=\"Returns\")\n",
    "print(Returns_df.head(2))"
   ]
  },
  {
   "cell_type": "code",
   "execution_count": 71,
   "id": "fb0d054d-7886-40fa-8af7-f222a88467b1",
   "metadata": {},
   "outputs": [
    {
     "name": "stdout",
     "output_type": "stream",
     "text": [
      "<class 'pandas.core.frame.DataFrame'>\n",
      "RangeIndex: 9994 entries, 0 to 9993\n",
      "Data columns (total 21 columns):\n",
      " #   Column          Non-Null Count  Dtype         \n",
      "---  ------          --------------  -----         \n",
      " 0   Row ID          9994 non-null   int64         \n",
      " 1   Order ID        9994 non-null   object        \n",
      " 2   Order Date      9994 non-null   datetime64[ns]\n",
      " 3   Ship Date       9994 non-null   datetime64[ns]\n",
      " 4   Ship Mode       9994 non-null   object        \n",
      " 5   Customer ID     9994 non-null   object        \n",
      " 6   Customer Name   9994 non-null   object        \n",
      " 7   Segment         9994 non-null   object        \n",
      " 8   Country/Region  9994 non-null   object        \n",
      " 9   City            9994 non-null   object        \n",
      " 10  State           9994 non-null   object        \n",
      " 11  Postal Code     9983 non-null   float64       \n",
      " 12  Region          9994 non-null   object        \n",
      " 13  Product ID      9994 non-null   object        \n",
      " 14  Category        9994 non-null   object        \n",
      " 15  Sub-Category    9994 non-null   object        \n",
      " 16  Product Name    9994 non-null   object        \n",
      " 17  Sales           9994 non-null   float64       \n",
      " 18  Quantity        9994 non-null   int64         \n",
      " 19  Discount        9994 non-null   float64       \n",
      " 20  Profit          9994 non-null   float64       \n",
      "dtypes: datetime64[ns](2), float64(4), int64(2), object(13)\n",
      "memory usage: 1.6+ MB\n",
      "=================================================\n",
      "<class 'pandas.core.frame.DataFrame'>\n",
      "RangeIndex: 4 entries, 0 to 3\n",
      "Data columns (total 2 columns):\n",
      " #   Column  Non-Null Count  Dtype \n",
      "---  ------  --------------  ----- \n",
      " 0   Person  4 non-null      object\n",
      " 1   Region  4 non-null      object\n",
      "dtypes: object(2)\n",
      "memory usage: 196.0+ bytes\n",
      "=================================================\n",
      "<class 'pandas.core.frame.DataFrame'>\n",
      "RangeIndex: 800 entries, 0 to 799\n",
      "Data columns (total 2 columns):\n",
      " #   Column    Non-Null Count  Dtype \n",
      "---  ------    --------------  ----- \n",
      " 0   Returned  800 non-null    object\n",
      " 1   Order ID  800 non-null    object\n",
      "dtypes: object(2)\n",
      "memory usage: 12.6+ KB\n"
     ]
    }
   ],
   "source": [
    "Orders_df.info()\n",
    "print ('=================================================')\n",
    "People_df.info()\n",
    "print ('=================================================')\n",
    "Returns_df.info()"
   ]
  },
  {
   "cell_type": "markdown",
   "id": "5e7f3655-17fa-4ea0-8d61-c29444570e88",
   "metadata": {
    "jp-MarkdownHeadingCollapsed": true
   },
   "source": [
    "# 2. Data Familiarization"
   ]
  },
  {
   "cell_type": "code",
   "execution_count": 77,
   "id": "a07b46cd-862c-4755-bec6-a442961917b9",
   "metadata": {},
   "outputs": [],
   "source": [
    "import matplotlib.pyplot as plt\n",
    "\n",
    "class DataFamiliarization:\n",
    "    \"\"\"To familiarize with the datasets\"\"\"\n",
    "    \n",
    "    @staticmethod\n",
    "    def general_information(dataset_name):\n",
    "        \"\"\"Show .info() for the specified dataset\"\"\"\n",
    "        df_info = dataset_name.info()\n",
    "        return df_info\n",
    "\n",
    "    @staticmethod\n",
    "    def summary_statistics(dataset_name):\n",
    "        \"\"\"Show summary statistics for the specified dataset\"\"\"\n",
    "        df_summary = dataset_name.describe()\n",
    "        return df_summary\n",
    "\n",
    "    @staticmethod\n",
    "    def check_missing_values(dataset_name):\n",
    "        \"\"\"Check for null/missing values in all columns.\"\"\"\n",
    "        missing = dataset_name.isnull().sum()\n",
    "        return missing\n",
    "\n",
    "    @staticmethod\n",
    "    def check_duplicated_rows(dataset_name):\n",
    "        \"\"\"Returns the total count of fully duplicated rows.\"\"\"\n",
    "        duplicate = dataset_name.duplicated().sum()\n",
    "        return duplicate\n",
    "    \n",
    "    \n",
    "    @staticmethod\n",
    "    def show_valueCounts(df, column):\n",
    "        \"\"\"Show summary statistics for the specified dataset\"\"\"\n",
    "        if column in df.columns:\n",
    "            return df[column].value_counts(dropna=False)\n",
    "        else:\n",
    "            print(f\"Column '{column}' not found.\")\n",
    "            return None\n",
    "            \n",
    " \n",
    "    @staticmethod\n",
    "    def show_chart(df, column, chart_type):\n",
    "        \"\"\"Show chart for a column using specified chart type\"\"\"\n",
    "        if column not in df.columns:\n",
    "            print(f\"Column '{column}' not found.\")\n",
    "            return\n",
    "        df[[column]].plot(kind=chart_type, figsize=(6, 4), color='skyblue')\n",
    "        plt.title(f'{chart_type.capitalize()} Chart of {column} column')\n",
    "        plt.xlabel(column)\n",
    "        plt.tight_layout()\n",
    "        plt.show()"
   ]
  },
  {
   "cell_type": "code",
   "execution_count": 41,
   "id": "a1ee85cd-c555-4a75-a9cb-67ae15d68d1b",
   "metadata": {},
   "outputs": [
    {
     "name": "stdout",
     "output_type": "stream",
     "text": [
      "<class 'pandas.core.frame.DataFrame'>\n",
      "RangeIndex: 800 entries, 0 to 799\n",
      "Data columns (total 2 columns):\n",
      " #   Column    Non-Null Count  Dtype \n",
      "---  ------    --------------  ----- \n",
      " 0   Returned  800 non-null    object\n",
      " 1   Order ID  800 non-null    object\n",
      "dtypes: object(2)\n",
      "memory usage: 12.6+ KB\n"
     ]
    }
   ],
   "source": [
    "DataFamiliarization.general_information(Returns_df)"
   ]
  },
  {
   "cell_type": "code",
   "execution_count": 33,
   "id": "fd7b85c2-2adb-4f68-af70-b8563b89c9da",
   "metadata": {
    "scrolled": true
   },
   "outputs": [
    {
     "data": {
      "text/html": [
       "<div>\n",
       "<style scoped>\n",
       "    .dataframe tbody tr th:only-of-type {\n",
       "        vertical-align: middle;\n",
       "    }\n",
       "\n",
       "    .dataframe tbody tr th {\n",
       "        vertical-align: top;\n",
       "    }\n",
       "\n",
       "    .dataframe thead th {\n",
       "        text-align: right;\n",
       "    }\n",
       "</style>\n",
       "<table border=\"1\" class=\"dataframe\">\n",
       "  <thead>\n",
       "    <tr style=\"text-align: right;\">\n",
       "      <th></th>\n",
       "      <th>Row ID</th>\n",
       "      <th>Order Date</th>\n",
       "      <th>Ship Date</th>\n",
       "      <th>Postal Code</th>\n",
       "      <th>Sales</th>\n",
       "      <th>Quantity</th>\n",
       "      <th>Discount</th>\n",
       "      <th>Profit</th>\n",
       "    </tr>\n",
       "  </thead>\n",
       "  <tbody>\n",
       "    <tr>\n",
       "      <th>count</th>\n",
       "      <td>9994.000000</td>\n",
       "      <td>9994</td>\n",
       "      <td>9994</td>\n",
       "      <td>9983.000000</td>\n",
       "      <td>9994.000000</td>\n",
       "      <td>9994.000000</td>\n",
       "      <td>9994.000000</td>\n",
       "      <td>9994.000000</td>\n",
       "    </tr>\n",
       "    <tr>\n",
       "      <th>mean</th>\n",
       "      <td>4997.500000</td>\n",
       "      <td>2018-04-30 10:03:51.979187712</td>\n",
       "      <td>2018-05-04 09:03:29.645787392</td>\n",
       "      <td>55245.233297</td>\n",
       "      <td>229.858001</td>\n",
       "      <td>3.789574</td>\n",
       "      <td>0.156203</td>\n",
       "      <td>28.656896</td>\n",
       "    </tr>\n",
       "    <tr>\n",
       "      <th>min</th>\n",
       "      <td>1.000000</td>\n",
       "      <td>2016-01-03 00:00:00</td>\n",
       "      <td>2016-01-07 00:00:00</td>\n",
       "      <td>1040.000000</td>\n",
       "      <td>0.444000</td>\n",
       "      <td>1.000000</td>\n",
       "      <td>0.000000</td>\n",
       "      <td>-6599.978000</td>\n",
       "    </tr>\n",
       "    <tr>\n",
       "      <th>25%</th>\n",
       "      <td>2499.250000</td>\n",
       "      <td>2017-05-23 00:00:00</td>\n",
       "      <td>2017-05-27 00:00:00</td>\n",
       "      <td>23223.000000</td>\n",
       "      <td>17.280000</td>\n",
       "      <td>2.000000</td>\n",
       "      <td>0.000000</td>\n",
       "      <td>1.728750</td>\n",
       "    </tr>\n",
       "    <tr>\n",
       "      <th>50%</th>\n",
       "      <td>4997.500000</td>\n",
       "      <td>2018-06-26 00:00:00</td>\n",
       "      <td>2018-06-29 00:00:00</td>\n",
       "      <td>57103.000000</td>\n",
       "      <td>54.490000</td>\n",
       "      <td>3.000000</td>\n",
       "      <td>0.200000</td>\n",
       "      <td>8.666500</td>\n",
       "    </tr>\n",
       "    <tr>\n",
       "      <th>75%</th>\n",
       "      <td>7495.750000</td>\n",
       "      <td>2019-05-14 00:00:00</td>\n",
       "      <td>2019-05-18 00:00:00</td>\n",
       "      <td>90008.000000</td>\n",
       "      <td>209.940000</td>\n",
       "      <td>5.000000</td>\n",
       "      <td>0.200000</td>\n",
       "      <td>29.364000</td>\n",
       "    </tr>\n",
       "    <tr>\n",
       "      <th>max</th>\n",
       "      <td>9994.000000</td>\n",
       "      <td>2019-12-30 00:00:00</td>\n",
       "      <td>2020-01-05 00:00:00</td>\n",
       "      <td>99301.000000</td>\n",
       "      <td>22638.480000</td>\n",
       "      <td>14.000000</td>\n",
       "      <td>0.800000</td>\n",
       "      <td>8399.976000</td>\n",
       "    </tr>\n",
       "    <tr>\n",
       "      <th>std</th>\n",
       "      <td>2885.163629</td>\n",
       "      <td>NaN</td>\n",
       "      <td>NaN</td>\n",
       "      <td>32038.715955</td>\n",
       "      <td>623.245101</td>\n",
       "      <td>2.225110</td>\n",
       "      <td>0.206452</td>\n",
       "      <td>234.260108</td>\n",
       "    </tr>\n",
       "  </tbody>\n",
       "</table>\n",
       "</div>"
      ],
      "text/plain": [
       "            Row ID                     Order Date  \\\n",
       "count  9994.000000                           9994   \n",
       "mean   4997.500000  2018-04-30 10:03:51.979187712   \n",
       "min       1.000000            2016-01-03 00:00:00   \n",
       "25%    2499.250000            2017-05-23 00:00:00   \n",
       "50%    4997.500000            2018-06-26 00:00:00   \n",
       "75%    7495.750000            2019-05-14 00:00:00   \n",
       "max    9994.000000            2019-12-30 00:00:00   \n",
       "std    2885.163629                            NaN   \n",
       "\n",
       "                           Ship Date   Postal Code         Sales     Quantity  \\\n",
       "count                           9994   9983.000000   9994.000000  9994.000000   \n",
       "mean   2018-05-04 09:03:29.645787392  55245.233297    229.858001     3.789574   \n",
       "min              2016-01-07 00:00:00   1040.000000      0.444000     1.000000   \n",
       "25%              2017-05-27 00:00:00  23223.000000     17.280000     2.000000   \n",
       "50%              2018-06-29 00:00:00  57103.000000     54.490000     3.000000   \n",
       "75%              2019-05-18 00:00:00  90008.000000    209.940000     5.000000   \n",
       "max              2020-01-05 00:00:00  99301.000000  22638.480000    14.000000   \n",
       "std                              NaN  32038.715955    623.245101     2.225110   \n",
       "\n",
       "          Discount       Profit  \n",
       "count  9994.000000  9994.000000  \n",
       "mean      0.156203    28.656896  \n",
       "min       0.000000 -6599.978000  \n",
       "25%       0.000000     1.728750  \n",
       "50%       0.200000     8.666500  \n",
       "75%       0.200000    29.364000  \n",
       "max       0.800000  8399.976000  \n",
       "std       0.206452   234.260108  "
      ]
     },
     "execution_count": 33,
     "metadata": {},
     "output_type": "execute_result"
    }
   ],
   "source": [
    "DataFamiliarization.summary_statistics(Orders_df)"
   ]
  },
  {
   "cell_type": "code",
   "execution_count": 74,
   "id": "94868c3e-a3d7-4f03-8c57-8fcbaad0cd11",
   "metadata": {},
   "outputs": [
    {
     "name": "stdout",
     "output_type": "stream",
     "text": [
      "============== Orders_df ======================\n",
      "Row ID             0\n",
      "Order ID           0\n",
      "Order Date         0\n",
      "Ship Date          0\n",
      "Ship Mode          0\n",
      "Customer ID        0\n",
      "Customer Name      0\n",
      "Segment            0\n",
      "Country/Region     0\n",
      "City               0\n",
      "State              0\n",
      "Postal Code       11\n",
      "Region             0\n",
      "Product ID         0\n",
      "Category           0\n",
      "Sub-Category       0\n",
      "Product Name       0\n",
      "Sales              0\n",
      "Quantity           0\n",
      "Discount           0\n",
      "Profit             0\n",
      "dtype: int64\n",
      "============== People_df ======================\n",
      "Person    0\n",
      "Region    0\n",
      "dtype: int64\n",
      "=============== Returns_df =====================\n",
      "Returned    0\n",
      "Order ID    0\n",
      "dtype: int64\n"
     ]
    }
   ],
   "source": [
    "print ('============== Orders_df ======================')\n",
    "print (DataFamiliarization.check_missing_values(Orders_df))\n",
    "print ('============== People_df ======================')\n",
    "print (DataFamiliarization.check_missing_values(People_df))\n",
    "print ('=============== Returns_df =====================')\n",
    "print (DataFamiliarization.check_missing_values(Returns_df))"
   ]
  },
  {
   "cell_type": "code",
   "execution_count": 79,
   "id": "84a5126a-a8f5-4c99-99cf-9fdca3798fc8",
   "metadata": {},
   "outputs": [
    {
     "name": "stdout",
     "output_type": "stream",
     "text": [
      "============== Orders_df ======================\n",
      "0\n",
      "============== People_df ======================\n",
      "0\n",
      "=============== Returns_df =====================\n",
      "504\n"
     ]
    }
   ],
   "source": [
    "print ('============== Orders_df ======================')\n",
    "print (DataFamiliarization.check_duplicated_rows(Orders_df))\n",
    "print ('============== People_df ======================')\n",
    "print (DataFamiliarization.check_duplicated_rows(People_df))\n",
    "print ('=============== Returns_df =====================')\n",
    "print (DataFamiliarization.check_duplicated_rows(Returns_df))"
   ]
  },
  {
   "cell_type": "code",
   "execution_count": 85,
   "id": "abc76687-b43f-42f1-828d-620e9a44e4e7",
   "metadata": {},
   "outputs": [
    {
     "data": {
      "text/plain": [
       "Sales\n",
       "12.960     56\n",
       "19.440     39\n",
       "15.552     39\n",
       "10.368     36\n",
       "32.400     28\n",
       "           ..\n",
       "825.174     1\n",
       "569.536     1\n",
       "796.425     1\n",
       "12.832      1\n",
       "243.160     1\n",
       "Name: count, Length: 6144, dtype: int64"
      ]
     },
     "execution_count": 85,
     "metadata": {},
     "output_type": "execute_result"
    }
   ],
   "source": [
    "DataFamiliarization.show_valueCounts(Orders_df, 'Sales')"
   ]
  },
  {
   "cell_type": "code",
   "execution_count": 58,
   "id": "48628233-ab4f-4cdb-bfbd-64d07daecff9",
   "metadata": {},
   "outputs": [
    {
     "data": {
      "image/png": "[encoded data removed]",
      "text/plain": [
       "<Figure size 600x400 with 1 Axes>"
      ]
     },
     "metadata": {},
     "output_type": "display_data"
    }
   ],
   "source": [
    "DataFamiliarization.show_chart(Orders_df, 'Sales', 'hist')"
   ]
  },
  {
   "cell_type": "code",
   "execution_count": 55,
   "id": "7c7ed255-973d-498f-829b-3948e7069949",
   "metadata": {},
   "outputs": [
    {
     "data": {
      "image/png": "[encoded data removed]",
      "text/plain": [
       "<Figure size 640x480 with 1 Axes>"
      ]
     },
     "metadata": {},
     "output_type": "display_data"
    }
   ],
   "source": [
    "Orders_df['Sales'].hist(bins=50)\n",
    "plt.title(\"Sales Histogram\")\n",
    "plt.show()"
   ]
  },
  {
   "cell_type": "code",
   "execution_count": 93,
   "id": "ecc6d4da-2a13-4bf8-8935-c7205e727240",
   "metadata": {},
   "outputs": [
    {
     "data": {
      "image/png": "[encoded data removed]",
      "text/plain": [
       "<Figure size 640x480 with 1 Axes>"
      ]
     },
     "metadata": {},
     "output_type": "display_data"
    }
   ],
   "source": [
    "Orders_df['Profit'].hist(bins=50)\n",
    "plt.title(\"Profit Histogram\")\n",
    "plt.show()"
   ]
  },
  {
   "cell_type": "code",
   "execution_count": null,
   "id": "abeeb9d5-aeef-4db8-99a5-d8bc98ed47a2",
   "metadata": {},
   "outputs": [],
   "source": [
    "progress update "
   ]
  },
  {
   "cell_type": "code",
   "execution_count": null,
   "id": "6624bd7c-4c79-4a10-ba29-0ca01a6ef7b0",
   "metadata": {},
   "outputs": [],
   "source": []
  },
  {
   "cell_type": "code",
   "execution_count": null,
   "id": "5ae933f7-c03b-4391-ac69-0bbc0641c9c0",
   "metadata": {},
   "outputs": [],
   "source": []
  },
  {
   "cell_type": "markdown",
   "id": "72cde296-73a0-418f-9307-0ca29f2fcd49",
   "metadata": {},
   "source": [
    "# 3. Data Cleaning"
   ]
  },
  {
   "cell_type": "code",
   "execution_count": 91,
   "id": "97b8c57d-b3ce-4d97-bdd9-0bc0c2adda7d",
   "metadata": {},
   "outputs": [],
   "source": [
    "class DataCleaner:\n",
    "    \"\"\"To familiarize with the datasets\"\"\"\n",
    "    \n",
    "    @staticmethod\n",
    "    def drop_missing_data(dataset_name):\n",
    "        \"\"\"drop missing values in the DataFrame\"\"\"\n",
    "        dataset_drop = dataset_name.dropna()\n",
    "        return dataset_drop\n",
    "\n",
    "    @staticmethod\n",
    "    def drop_duplicate_data(dataset_name):\n",
    "        \"\"\"drop missing values in the DataFrame\"\"\"\n",
    "        dataset_drop = dataset_name.drop_duplicates()\n",
    "        return dataset_drop\n",
    "    \n",
    "    @staticmethod\n",
    "    def standardize_text_columns(dataset_name, cols):\n",
    "        for col in cols:\n",
    "            dataset_name[cols] = dataset_name[cols].astype(str).str.lower().str.strip().str.title()\n",
    "        return dataset_name[cols]\n",
    "    \n",
    "    @staticmethod\n",
    "    def log_transform_skewed_data(dataset_name, cols):\n",
    "        \"\"\"Log transform column to normalize distribution skewness\"\"\"\n",
    "        dataset_name[cols] = np.log1p(dataset_name[cols])\n",
    "        return dataset_name[cols]\n",
    "\n",
    "\n",
    "# Log Transform\n"
   ]
  },
  {
   "cell_type": "code",
   "execution_count": 88,
   "id": "d1bf7835-de3f-4707-8323-c47f6ad603c0",
   "metadata": {},
   "outputs": [],
   "source": [
    "sample = Orders_df.copy()"
   ]
  },
  {
   "cell_type": "code",
   "execution_count": 89,
   "id": "61898f37-3adc-4e68-8e7e-692ac82aa0d3",
   "metadata": {},
   "outputs": [
    {
     "data": {
      "text/html": [
       "<div>\n",
       "<style scoped>\n",
       "    .dataframe tbody tr th:only-of-type {\n",
       "        vertical-align: middle;\n",
       "    }\n",
       "\n",
       "    .dataframe tbody tr th {\n",
       "        vertical-align: top;\n",
       "    }\n",
       "\n",
       "    .dataframe thead th {\n",
       "        text-align: right;\n",
       "    }\n",
       "</style>\n",
       "<table border=\"1\" class=\"dataframe\">\n",
       "  <thead>\n",
       "    <tr style=\"text-align: right;\">\n",
       "      <th></th>\n",
       "      <th>Row ID</th>\n",
       "      <th>Order ID</th>\n",
       "      <th>Order Date</th>\n",
       "      <th>Ship Date</th>\n",
       "      <th>Ship Mode</th>\n",
       "      <th>Customer ID</th>\n",
       "      <th>Customer Name</th>\n",
       "      <th>Segment</th>\n",
       "      <th>Country/Region</th>\n",
       "      <th>City</th>\n",
       "      <th>...</th>\n",
       "      <th>Postal Code</th>\n",
       "      <th>Region</th>\n",
       "      <th>Product ID</th>\n",
       "      <th>Category</th>\n",
       "      <th>Sub-Category</th>\n",
       "      <th>Product Name</th>\n",
       "      <th>Sales</th>\n",
       "      <th>Quantity</th>\n",
       "      <th>Discount</th>\n",
       "      <th>Profit</th>\n",
       "    </tr>\n",
       "  </thead>\n",
       "  <tbody>\n",
       "    <tr>\n",
       "      <th>0</th>\n",
       "      <td>1</td>\n",
       "      <td>CA-2018-152156</td>\n",
       "      <td>2018-11-08</td>\n",
       "      <td>2018-11-11</td>\n",
       "      <td>Second Class</td>\n",
       "      <td>CG-12520</td>\n",
       "      <td>Claire Gute</td>\n",
       "      <td>Consumer</td>\n",
       "      <td>United States</td>\n",
       "      <td>Henderson</td>\n",
       "      <td>...</td>\n",
       "      <td>42420.0</td>\n",
       "      <td>South</td>\n",
       "      <td>FUR-BO-10001798</td>\n",
       "      <td>Furniture</td>\n",
       "      <td>Bookcases</td>\n",
       "      <td>Bush Somerset Collection Bookcase</td>\n",
       "      <td>261.96</td>\n",
       "      <td>2</td>\n",
       "      <td>0.0</td>\n",
       "      <td>41.9136</td>\n",
       "    </tr>\n",
       "    <tr>\n",
       "      <th>1</th>\n",
       "      <td>2</td>\n",
       "      <td>CA-2018-152156</td>\n",
       "      <td>2018-11-08</td>\n",
       "      <td>2018-11-11</td>\n",
       "      <td>Second Class</td>\n",
       "      <td>CG-12520</td>\n",
       "      <td>Claire Gute</td>\n",
       "      <td>Consumer</td>\n",
       "      <td>United States</td>\n",
       "      <td>Henderson</td>\n",
       "      <td>...</td>\n",
       "      <td>42420.0</td>\n",
       "      <td>South</td>\n",
       "      <td>FUR-CH-10000454</td>\n",
       "      <td>Furniture</td>\n",
       "      <td>Chairs</td>\n",
       "      <td>Hon Deluxe Fabric Upholstered Stacking Chairs,...</td>\n",
       "      <td>731.94</td>\n",
       "      <td>3</td>\n",
       "      <td>0.0</td>\n",
       "      <td>219.5820</td>\n",
       "    </tr>\n",
       "    <tr>\n",
       "      <th>2</th>\n",
       "      <td>3</td>\n",
       "      <td>CA-2018-138688</td>\n",
       "      <td>2018-06-12</td>\n",
       "      <td>2018-06-16</td>\n",
       "      <td>Second Class</td>\n",
       "      <td>DV-13045</td>\n",
       "      <td>Darrin Van Huff</td>\n",
       "      <td>Corporate</td>\n",
       "      <td>United States</td>\n",
       "      <td>Los Angeles</td>\n",
       "      <td>...</td>\n",
       "      <td>90036.0</td>\n",
       "      <td>West</td>\n",
       "      <td>OFF-LA-10000240</td>\n",
       "      <td>Office Supplies</td>\n",
       "      <td>Labels</td>\n",
       "      <td>Self-Adhesive Address Labels for Typewriters b...</td>\n",
       "      <td>14.62</td>\n",
       "      <td>2</td>\n",
       "      <td>0.0</td>\n",
       "      <td>6.8714</td>\n",
       "    </tr>\n",
       "  </tbody>\n",
       "</table>\n",
       "<p>3 rows × 21 columns</p>\n",
       "</div>"
      ],
      "text/plain": [
       "   Row ID        Order ID Order Date  Ship Date     Ship Mode Customer ID  \\\n",
       "0       1  CA-2018-152156 2018-11-08 2018-11-11  Second Class    CG-12520   \n",
       "1       2  CA-2018-152156 2018-11-08 2018-11-11  Second Class    CG-12520   \n",
       "2       3  CA-2018-138688 2018-06-12 2018-06-16  Second Class    DV-13045   \n",
       "\n",
       "     Customer Name    Segment Country/Region         City  ... Postal Code  \\\n",
       "0      Claire Gute   Consumer  United States    Henderson  ...     42420.0   \n",
       "1      Claire Gute   Consumer  United States    Henderson  ...     42420.0   \n",
       "2  Darrin Van Huff  Corporate  United States  Los Angeles  ...     90036.0   \n",
       "\n",
       "   Region       Product ID         Category Sub-Category  \\\n",
       "0   South  FUR-BO-10001798        Furniture    Bookcases   \n",
       "1   South  FUR-CH-10000454        Furniture       Chairs   \n",
       "2    West  OFF-LA-10000240  Office Supplies       Labels   \n",
       "\n",
       "                                        Product Name   Sales  Quantity  \\\n",
       "0                  Bush Somerset Collection Bookcase  261.96         2   \n",
       "1  Hon Deluxe Fabric Upholstered Stacking Chairs,...  731.94         3   \n",
       "2  Self-Adhesive Address Labels for Typewriters b...   14.62         2   \n",
       "\n",
       "   Discount    Profit  \n",
       "0       0.0   41.9136  \n",
       "1       0.0  219.5820  \n",
       "2       0.0    6.8714  \n",
       "\n",
       "[3 rows x 21 columns]"
      ]
     },
     "execution_count": 89,
     "metadata": {},
     "output_type": "execute_result"
    }
   ],
   "source": [
    "sample.head(3)"
   ]
  },
  {
   "cell_type": "code",
   "execution_count": null,
   "id": "4dc8107e-ef91-4f48-9e30-de5adc674569",
   "metadata": {},
   "outputs": [],
   "source": [
    "sample.standardize_text_columns"
   ]
  },
  {
   "cell_type": "code",
   "execution_count": 92,
   "id": "e057de5f-5740-428d-ab02-46f9949d7706",
   "metadata": {},
   "outputs": [
    {
     "data": {
      "text/plain": [
       "0             Henderson\n",
       "1             Henderson\n",
       "2           Los Angeles\n",
       "3       Fort Lauderdale\n",
       "4       Fort Lauderdale\n",
       "             ...       \n",
       "9989              Miami\n",
       "9990         Costa Mesa\n",
       "9991         Costa Mesa\n",
       "9992         Costa Mesa\n",
       "9993        Westminster\n",
       "Name: City, Length: 9994, dtype: object"
      ]
     },
     "execution_count": 92,
     "metadata": {},
     "output_type": "execute_result"
    }
   ],
   "source": [
    "DataCleaner.standardize_text_columns(sample, 'City')"
   ]
  },
  {
   "cell_type": "code",
   "execution_count": null,
   "id": "48410c3f-0085-40af-a7c6-2cbe1750b68f",
   "metadata": {},
   "outputs": [],
   "source": []
  },
  {
   "cell_type": "code",
   "execution_count": null,
   "id": "39a91d27-788c-42ff-ad1d-085011f66d42",
   "metadata": {},
   "outputs": [],
   "source": []
  },
  {
   "cell_type": "code",
   "execution_count": null,
   "id": "19566404-ffd4-488f-bf6e-8bffb5040b39",
   "metadata": {},
   "outputs": [],
   "source": []
  },
  {
   "cell_type": "code",
   "execution_count": null,
   "id": "a28398a8-9f9c-47d9-a65c-2c3e2010832d",
   "metadata": {},
   "outputs": [],
   "source": []
  },
  {
   "cell_type": "code",
   "execution_count": null,
   "id": "e9cef4d3-e867-4c42-af6f-a3bebdcc5d5a",
   "metadata": {},
   "outputs": [],
   "source": []
  },
  {
   "cell_type": "markdown",
   "id": "8a8c8d74-4ab3-4813-81bb-deafbf24922d",
   "metadata": {},
   "source": [
    "# 4. Data Transformation"
   ]
  },
  {
   "cell_type": "code",
   "execution_count": null,
   "id": "ce38df1b-f6f2-42f6-a19c-d8a9628fcc3d",
   "metadata": {},
   "outputs": [],
   "source": [
    "5. Exploratory Data Analysis (EDA)¶"
   ]
  },
  {
   "cell_type": "code",
   "execution_count": null,
   "id": "bb68639c-ea55-4ccd-b518-d8e55aac0804",
   "metadata": {},
   "outputs": [],
   "source": [
    "6. Descriptive Analysis"
   ]
  },
  {
   "cell_type": "code",
   "execution_count": null,
   "id": "38311f67-49e9-48a6-b4ff-a79636da230b",
   "metadata": {},
   "outputs": [],
   "source": [
    "7. Diagnostic Analysis¶"
   ]
  },
  {
   "cell_type": "code",
   "execution_count": null,
   "id": "3888ef4c-cbe4-4201-ac99-55b45cc42c53",
   "metadata": {},
   "outputs": [],
   "source": [
    "8. Inferential Analysis"
   ]
  },
  {
   "cell_type": "code",
   "execution_count": null,
   "id": "0e99f432-e1e9-491e-bd87-b831f02b0b41",
   "metadata": {},
   "outputs": [],
   "source": [
    "9. Predictive Analysis¶"
   ]
  },
  {
   "cell_type": "code",
   "execution_count": null,
   "id": "29b14c7a-32b8-4a14-a869-ca6584b72d29",
   "metadata": {},
   "outputs": [],
   "source": [
    "10. Prescriptive Analysis"
   ]
  },
  {
   "cell_type": "code",
   "execution_count": null,
   "id": "19be1126-fd9c-4b36-960b-d595a902e615",
   "metadata": {},
   "outputs": [],
   "source": [
    "11. Reporting & visualization"
   ]
  },
  {
   "cell_type": "code",
   "execution_count": null,
   "id": "b7400f2a-2ca7-4ae3-8bcb-b39f74a4e9fe",
   "metadata": {},
   "outputs": [],
   "source": [
    "12. docuemnetation"
   ]
  },
  {
   "cell_type": "code",
   "execution_count": null,
   "id": "3c1e9a70-b2f4-4c21-9277-bd2760e19a24",
   "metadata": {},
   "outputs": [],
   "source": [
    "13. prof ways to extract value for bsns"
   ]
  },
  {
   "cell_type": "code",
   "execution_count": null,
   "id": "df2fe8f7-6930-4f52-860a-8ad18afedcf2",
   "metadata": {},
   "outputs": [],
   "source": [
    "14. Business implementation"
   ]
  }
 ],
 "metadata": {
  "kernelspec": {
   "display_name": "Python 3 (ipykernel)",
   "language": "python",
   "name": "python3"
  },
  "language_info": {
   "codemirror_mode": {
    "name": "ipython",
    "version": 3
   },
   "file_extension": ".py",
   "mimetype": "text/x-python",
   "name": "python",
   "nbconvert_exporter": "python",
   "pygments_lexer": "ipython3",
   "version": "3.12.7"
  }
 },
 "nbformat": 4,
 "nbformat_minor": 5
}
