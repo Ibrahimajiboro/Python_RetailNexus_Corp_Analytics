{
 "cells": [
  {
   "cell_type": "markdown",
   "id": "7856947b-3d0f-454f-b0d4-28f098aaffb5",
   "metadata": {
    "jp-MarkdownHeadingCollapsed": true
   },
   "source": [
    "# General project information summary"
   ]
  },
  {
   "cell_type": "code",
   "execution_count": null,
   "id": "5ffb68b4-103f-4e14-8284-abf4845d5957",
   "metadata": {},
   "outputs": [],
   "source": [
    "General project information summary\n",
    "1. Data Loading\n",
    "2. Data Familiarization\n",
    "3. Data Cleaning\n",
    "4. Data Transformation\n",
    "5. Exploratory Data Analysis (EDA)\n",
    "6. Descriptive Analysis\n",
    "7. Diagnostic Analysis\n",
    "8. Inferential Analysis\n",
    "9. Predictive Analysis\n",
    "10. Prescriptive Analysis"
   ]
  },
  {
   "cell_type": "markdown",
   "id": "2fbcef89-c09f-47b7-91bd-03433d887345",
   "metadata": {
    "jp-MarkdownHeadingCollapsed": true
   },
   "source": [
    "# 1. Data Loading"
   ]
  },
  {
   "cell_type": "code",
   "execution_count": 1,
   "id": "6befc606-2c53-4638-8cce-8c5412de3b18",
   "metadata": {},
   "outputs": [],
   "source": [
    "import pandas as pd\n",
    "import numpy as np\n",
    "\n",
    "# =============================================\n",
    "# DataLoader Class (CSV + Excel)\n",
    "# =============================================\n",
    "class DataLoader:\n",
    "    \"\"\"Loads data from CSV or Excel files.\"\"\"\n",
    "\n",
    "    def __init__(self, filepath: str = None):\n",
    "        self.filepath = filepath\n",
    "        \n",
    "    def load_csv(self, file_path: str) -> pd.DataFrame:\n",
    "        \"\"\"Load a CSV file into a DataFrame.\"\"\"\n",
    "        df = pd.read_csv(file_path)\n",
    "        return df\n",
    "    \n",
    "    def load_excel(self, file_path: str, sheet_name: str = None) -> pd.DataFrame:\n",
    "        \"\"\"Load an Excel sheet into a DataFrame.\"\"\"\n",
    "        df = pd.read_excel(file_path, sheet_name=sheet_name)\n",
    "        return df\n",
    "        "
   ]
  },
  {
   "cell_type": "code",
   "execution_count": 3,
   "id": "4f48fc94-7ad4-4529-9080-ff4a1b1efab0",
   "metadata": {},
   "outputs": [],
   "source": [
    "data_loader = DataLoader()   People, Returns"
   ]
  },
  {
   "cell_type": "code",
   "execution_count": 7,
   "id": "2401bf54-b37b-4cb0-896a-86284cf96e45",
   "metadata": {},
   "outputs": [
    {
     "name": "stderr",
     "output_type": "stream",
     "text": [
      "C:\\Users\\ajibo\\anaconda3\\Lib\\site-packages\\openpyxl\\worksheet\\header_footer.py:48: UserWarning: Cannot parse header or footer so it will be ignored\n",
      "  warn(\"\"\"Cannot parse header or footer so it will be ignored\"\"\")\n"
     ]
    }
   ],
   "source": [
    "Orders_df = data_loader.load_excel(r\"C:\\Users\\ajibo\\Downloads\\0. Rebrand\\IT Projects\\0. project portfolio\\RetailNexus_Corp_Analytics\\RetailNexus_Corp_Raw_Dataset.xlsx\", sheet_name=\"Orders\")"
   ]
  },
  {
   "cell_type": "code",
   "execution_count": 8,
   "id": "1b9b83b3-390b-4a8c-a94c-03545057606b",
   "metadata": {},
   "outputs": [
    {
     "data": {
      "text/html": [
       "<div>\n",
       "<style scoped>\n",
       "    .dataframe tbody tr th:only-of-type {\n",
       "        vertical-align: middle;\n",
       "    }\n",
       "\n",
       "    .dataframe tbody tr th {\n",
       "        vertical-align: top;\n",
       "    }\n",
       "\n",
       "    .dataframe thead th {\n",
       "        text-align: right;\n",
       "    }\n",
       "</style>\n",
       "<table border=\"1\" class=\"dataframe\">\n",
       "  <thead>\n",
       "    <tr style=\"text-align: right;\">\n",
       "      <th></th>\n",
       "      <th>Row ID</th>\n",
       "      <th>Order ID</th>\n",
       "      <th>Order Date</th>\n",
       "      <th>Ship Date</th>\n",
       "      <th>Ship Mode</th>\n",
       "      <th>Customer ID</th>\n",
       "      <th>Customer Name</th>\n",
       "      <th>Segment</th>\n",
       "      <th>Country/Region</th>\n",
       "      <th>City</th>\n",
       "      <th>...</th>\n",
       "      <th>Postal Code</th>\n",
       "      <th>Region</th>\n",
       "      <th>Product ID</th>\n",
       "      <th>Category</th>\n",
       "      <th>Sub-Category</th>\n",
       "      <th>Product Name</th>\n",
       "      <th>Sales</th>\n",
       "      <th>Quantity</th>\n",
       "      <th>Discount</th>\n",
       "      <th>Profit</th>\n",
       "    </tr>\n",
       "  </thead>\n",
       "  <tbody>\n",
       "    <tr>\n",
       "      <th>0</th>\n",
       "      <td>1</td>\n",
       "      <td>CA-2018-152156</td>\n",
       "      <td>2018-11-08</td>\n",
       "      <td>2018-11-11</td>\n",
       "      <td>Second Class</td>\n",
       "      <td>CG-12520</td>\n",
       "      <td>Claire Gute</td>\n",
       "      <td>Consumer</td>\n",
       "      <td>United States</td>\n",
       "      <td>Henderson</td>\n",
       "      <td>...</td>\n",
       "      <td>42420.0</td>\n",
       "      <td>South</td>\n",
       "      <td>FUR-BO-10001798</td>\n",
       "      <td>Furniture</td>\n",
       "      <td>Bookcases</td>\n",
       "      <td>Bush Somerset Collection Bookcase</td>\n",
       "      <td>261.96</td>\n",
       "      <td>2</td>\n",
       "      <td>0.0</td>\n",
       "      <td>41.9136</td>\n",
       "    </tr>\n",
       "    <tr>\n",
       "      <th>1</th>\n",
       "      <td>2</td>\n",
       "      <td>CA-2018-152156</td>\n",
       "      <td>2018-11-08</td>\n",
       "      <td>2018-11-11</td>\n",
       "      <td>Second Class</td>\n",
       "      <td>CG-12520</td>\n",
       "      <td>Claire Gute</td>\n",
       "      <td>Consumer</td>\n",
       "      <td>United States</td>\n",
       "      <td>Henderson</td>\n",
       "      <td>...</td>\n",
       "      <td>42420.0</td>\n",
       "      <td>South</td>\n",
       "      <td>FUR-CH-10000454</td>\n",
       "      <td>Furniture</td>\n",
       "      <td>Chairs</td>\n",
       "      <td>Hon Deluxe Fabric Upholstered Stacking Chairs,...</td>\n",
       "      <td>731.94</td>\n",
       "      <td>3</td>\n",
       "      <td>0.0</td>\n",
       "      <td>219.5820</td>\n",
       "    </tr>\n",
       "  </tbody>\n",
       "</table>\n",
       "<p>2 rows × 21 columns</p>\n",
       "</div>"
      ],
      "text/plain": [
       "   Row ID        Order ID Order Date  Ship Date     Ship Mode Customer ID  \\\n",
       "0       1  CA-2018-152156 2018-11-08 2018-11-11  Second Class    CG-12520   \n",
       "1       2  CA-2018-152156 2018-11-08 2018-11-11  Second Class    CG-12520   \n",
       "\n",
       "  Customer Name   Segment Country/Region       City  ... Postal Code  Region  \\\n",
       "0   Claire Gute  Consumer  United States  Henderson  ...     42420.0   South   \n",
       "1   Claire Gute  Consumer  United States  Henderson  ...     42420.0   South   \n",
       "\n",
       "        Product ID   Category Sub-Category  \\\n",
       "0  FUR-BO-10001798  Furniture    Bookcases   \n",
       "1  FUR-CH-10000454  Furniture       Chairs   \n",
       "\n",
       "                                        Product Name   Sales  Quantity  \\\n",
       "0                  Bush Somerset Collection Bookcase  261.96         2   \n",
       "1  Hon Deluxe Fabric Upholstered Stacking Chairs,...  731.94         3   \n",
       "\n",
       "   Discount    Profit  \n",
       "0       0.0   41.9136  \n",
       "1       0.0  219.5820  \n",
       "\n",
       "[2 rows x 21 columns]"
      ]
     },
     "execution_count": 8,
     "metadata": {},
     "output_type": "execute_result"
    }
   ],
   "source": [
    "Orders_df.head(2)"
   ]
  },
  {
   "cell_type": "code",
   "execution_count": 9,
   "id": "1e6f52eb-ff93-4f04-b72d-ac928a716c51",
   "metadata": {},
   "outputs": [
    {
     "name": "stderr",
     "output_type": "stream",
     "text": [
      "C:\\Users\\ajibo\\anaconda3\\Lib\\site-packages\\openpyxl\\worksheet\\header_footer.py:48: UserWarning: Cannot parse header or footer so it will be ignored\n",
      "  warn(\"\"\"Cannot parse header or footer so it will be ignored\"\"\")\n"
     ]
    }
   ],
   "source": [
    "People_df = data_loader.load_excel(r\"C:\\Users\\ajibo\\Downloads\\0. Rebrand\\IT Projects\\0. project portfolio\\RetailNexus_Corp_Analytics\\RetailNexus_Corp_Raw_Dataset.xlsx\", sheet_name=\"People\")"
   ]
  },
  {
   "cell_type": "code",
   "execution_count": 10,
   "id": "1a2e505b-a85b-4e12-b37c-15c5332ecf13",
   "metadata": {},
   "outputs": [
    {
     "data": {
      "text/html": [
       "<div>\n",
       "<style scoped>\n",
       "    .dataframe tbody tr th:only-of-type {\n",
       "        vertical-align: middle;\n",
       "    }\n",
       "\n",
       "    .dataframe tbody tr th {\n",
       "        vertical-align: top;\n",
       "    }\n",
       "\n",
       "    .dataframe thead th {\n",
       "        text-align: right;\n",
       "    }\n",
       "</style>\n",
       "<table border=\"1\" class=\"dataframe\">\n",
       "  <thead>\n",
       "    <tr style=\"text-align: right;\">\n",
       "      <th></th>\n",
       "      <th>Person</th>\n",
       "      <th>Region</th>\n",
       "    </tr>\n",
       "  </thead>\n",
       "  <tbody>\n",
       "    <tr>\n",
       "      <th>0</th>\n",
       "      <td>Anna Andreadi</td>\n",
       "      <td>West</td>\n",
       "    </tr>\n",
       "    <tr>\n",
       "      <th>1</th>\n",
       "      <td>Chuck Magee</td>\n",
       "      <td>East</td>\n",
       "    </tr>\n",
       "  </tbody>\n",
       "</table>\n",
       "</div>"
      ],
      "text/plain": [
       "          Person Region\n",
       "0  Anna Andreadi   West\n",
       "1    Chuck Magee   East"
      ]
     },
     "execution_count": 10,
     "metadata": {},
     "output_type": "execute_result"
    }
   ],
   "source": [
    "People_df.head(2)"
   ]
  },
  {
   "cell_type": "code",
   "execution_count": 11,
   "id": "cad67b7d-2c8f-47bc-b1a8-ff3a3f9aa80b",
   "metadata": {},
   "outputs": [
    {
     "name": "stderr",
     "output_type": "stream",
     "text": [
      "C:\\Users\\ajibo\\anaconda3\\Lib\\site-packages\\openpyxl\\worksheet\\header_footer.py:48: UserWarning: Cannot parse header or footer so it will be ignored\n",
      "  warn(\"\"\"Cannot parse header or footer so it will be ignored\"\"\")\n"
     ]
    }
   ],
   "source": [
    "Returns_df = data_loader.load_excel(r\"C:\\Users\\ajibo\\Downloads\\0. Rebrand\\IT Projects\\0. project portfolio\\RetailNexus_Corp_Analytics\\RetailNexus_Corp_Raw_Dataset.xlsx\", sheet_name=\"Returns\")"
   ]
  },
  {
   "cell_type": "code",
   "execution_count": 12,
   "id": "bf0e256d-d348-47cc-b673-84533bcd627c",
   "metadata": {},
   "outputs": [
    {
     "data": {
      "text/html": [
       "<div>\n",
       "<style scoped>\n",
       "    .dataframe tbody tr th:only-of-type {\n",
       "        vertical-align: middle;\n",
       "    }\n",
       "\n",
       "    .dataframe tbody tr th {\n",
       "        vertical-align: top;\n",
       "    }\n",
       "\n",
       "    .dataframe thead th {\n",
       "        text-align: right;\n",
       "    }\n",
       "</style>\n",
       "<table border=\"1\" class=\"dataframe\">\n",
       "  <thead>\n",
       "    <tr style=\"text-align: right;\">\n",
       "      <th></th>\n",
       "      <th>Returned</th>\n",
       "      <th>Order ID</th>\n",
       "    </tr>\n",
       "  </thead>\n",
       "  <tbody>\n",
       "    <tr>\n",
       "      <th>0</th>\n",
       "      <td>Yes</td>\n",
       "      <td>CA-2016-100762</td>\n",
       "    </tr>\n",
       "    <tr>\n",
       "      <th>1</th>\n",
       "      <td>Yes</td>\n",
       "      <td>CA-2016-100762</td>\n",
       "    </tr>\n",
       "  </tbody>\n",
       "</table>\n",
       "</div>"
      ],
      "text/plain": [
       "  Returned        Order ID\n",
       "0      Yes  CA-2016-100762\n",
       "1      Yes  CA-2016-100762"
      ]
     },
     "execution_count": 12,
     "metadata": {},
     "output_type": "execute_result"
    }
   ],
   "source": [
    "Returns_df.head(2)"
   ]
  },
  {
   "cell_type": "code",
   "execution_count": null,
   "id": "fb0d054d-7886-40fa-8af7-f222a88467b1",
   "metadata": {},
   "outputs": [],
   "source": []
  },
  {
   "cell_type": "code",
   "execution_count": null,
   "id": "a07b46cd-862c-4755-bec6-a442961917b9",
   "metadata": {},
   "outputs": [],
   "source": []
  },
  {
   "cell_type": "code",
   "execution_count": null,
   "id": "abc76687-b43f-42f1-828d-620e9a44e4e7",
   "metadata": {},
   "outputs": [],
   "source": []
  },
  {
   "cell_type": "code",
   "execution_count": null,
   "id": "48628233-ab4f-4cdb-bfbd-64d07daecff9",
   "metadata": {},
   "outputs": [],
   "source": []
  },
  {
   "cell_type": "markdown",
   "id": "5e7f3655-17fa-4ea0-8d61-c29444570e88",
   "metadata": {
    "jp-MarkdownHeadingCollapsed": true
   },
   "source": [
    "# 2. Data Familiarization"
   ]
  },
  {
   "cell_type": "code",
   "execution_count": null,
   "id": "780126e6-72a0-4a24-9e2c-2bc677d90c03",
   "metadata": {},
   "outputs": [],
   "source": [
    "3. Data Cleaning¶"
   ]
  },
  {
   "cell_type": "code",
   "execution_count": null,
   "id": "51021083-d125-440c-9933-aedeb90df4df",
   "metadata": {},
   "outputs": [],
   "source": [
    "4. Data Transformation¶"
   ]
  },
  {
   "cell_type": "code",
   "execution_count": null,
   "id": "ce38df1b-f6f2-42f6-a19c-d8a9628fcc3d",
   "metadata": {},
   "outputs": [],
   "source": [
    "5. Exploratory Data Analysis (EDA)¶"
   ]
  },
  {
   "cell_type": "code",
   "execution_count": null,
   "id": "bb68639c-ea55-4ccd-b518-d8e55aac0804",
   "metadata": {},
   "outputs": [],
   "source": [
    "6. Descriptive Analysis"
   ]
  },
  {
   "cell_type": "code",
   "execution_count": null,
   "id": "38311f67-49e9-48a6-b4ff-a79636da230b",
   "metadata": {},
   "outputs": [],
   "source": [
    "7. Diagnostic Analysis¶"
   ]
  },
  {
   "cell_type": "code",
   "execution_count": null,
   "id": "3888ef4c-cbe4-4201-ac99-55b45cc42c53",
   "metadata": {},
   "outputs": [],
   "source": [
    "8. Inferential Analysis"
   ]
  },
  {
   "cell_type": "code",
   "execution_count": null,
   "id": "0e99f432-e1e9-491e-bd87-b831f02b0b41",
   "metadata": {},
   "outputs": [],
   "source": [
    "9. Predictive Analysis¶"
   ]
  },
  {
   "cell_type": "code",
   "execution_count": null,
   "id": "29b14c7a-32b8-4a14-a869-ca6584b72d29",
   "metadata": {},
   "outputs": [],
   "source": [
    "10. Prescriptive Analysis"
   ]
  },
  {
   "cell_type": "code",
   "execution_count": null,
   "id": "19be1126-fd9c-4b36-960b-d595a902e615",
   "metadata": {},
   "outputs": [],
   "source": [
    "11. Reporting & visualization"
   ]
  },
  {
   "cell_type": "code",
   "execution_count": null,
   "id": "b7400f2a-2ca7-4ae3-8bcb-b39f74a4e9fe",
   "metadata": {},
   "outputs": [],
   "source": [
    "12. docuemnetation"
   ]
  },
  {
   "cell_type": "code",
   "execution_count": null,
   "id": "3c1e9a70-b2f4-4c21-9277-bd2760e19a24",
   "metadata": {},
   "outputs": [],
   "source": [
    "13. prof ways to extract value for bsns"
   ]
  },
  {
   "cell_type": "code",
   "execution_count": null,
   "id": "df2fe8f7-6930-4f52-860a-8ad18afedcf2",
   "metadata": {},
   "outputs": [],
   "source": [
    "14. Business implementation"
   ]
  }
 ],
 "metadata": {
  "kernelspec": {
   "display_name": "Python 3 (ipykernel)",
   "language": "python",
   "name": "python3"
  },
  "language_info": {
   "codemirror_mode": {
    "name": "ipython",
    "version": 3
   },
   "file_extension": ".py",
   "mimetype": "text/x-python",
   "name": "python",
   "nbconvert_exporter": "python",
   "pygments_lexer": "ipython3",
   "version": "3.12.7"
  }
 },
 "nbformat": 4,
 "nbformat_minor": 5
}
